{
 "cells": [
  {
   "cell_type": "code",
   "execution_count": 1,
   "id": "6a6c76cb",
   "metadata": {},
   "outputs": [],
   "source": [
    "import pandas as pd"
   ]
  },
  {
   "cell_type": "code",
   "execution_count": 2,
   "id": "c4d17ebd",
   "metadata": {},
   "outputs": [
    {
     "name": "stdout",
     "output_type": "stream",
     "text": [
      "test\n"
     ]
    }
   ],
   "source": [
    "print(\"test\")"
   ]
  },
  {
   "cell_type": "code",
   "execution_count": 7,
   "id": "29cdb58f",
   "metadata": {},
   "outputs": [],
   "source": [
    "data = pd.read_csv(\"./ctr_data_1M.csv\")"
   ]
  },
  {
   "cell_type": "code",
   "execution_count": 8,
   "id": "1d64a69b",
   "metadata": {},
   "outputs": [
    {
     "data": {
      "text/plain": [
       "120342306"
      ]
     },
     "execution_count": 8,
     "metadata": {},
     "output_type": "execute_result"
    }
   ],
   "source": [
    "len(data)"
   ]
  },
  {
   "cell_type": "code",
   "execution_count": 10,
   "id": "5647815f",
   "metadata": {},
   "outputs": [],
   "source": [
    "value_counts = data['item_id'].value_counts()"
   ]
  },
  {
   "cell_type": "code",
   "execution_count": 11,
   "id": "9935d4f8",
   "metadata": {},
   "outputs": [
    {
     "data": {
      "text/plain": [
       "2169516"
      ]
     },
     "execution_count": 11,
     "metadata": {},
     "output_type": "execute_result"
    }
   ],
   "source": [
    "smallest_100 = value_counts[value_counts < 100]\n",
    "len(smallest_100)"
   ]
  },
  {
   "cell_type": "code",
   "execution_count": 21,
   "id": "a50893a0",
   "metadata": {},
   "outputs": [
    {
     "data": {
      "text/plain": [
       "140571"
      ]
     },
     "execution_count": 21,
     "metadata": {},
     "output_type": "execute_result"
    }
   ],
   "source": [
    "len(value_counts[value_counts >= 100])"
   ]
  },
  {
   "cell_type": "code",
   "execution_count": 24,
   "id": "39a97798",
   "metadata": {},
   "outputs": [
    {
     "data": {
      "text/plain": [
       "834896"
      ]
     },
     "execution_count": 24,
     "metadata": {},
     "output_type": "execute_result"
    }
   ],
   "source": [
    "len(value_counts[value_counts <= 1])"
   ]
  },
  {
   "cell_type": "code",
   "execution_count": 14,
   "id": "1b4f6b20",
   "metadata": {},
   "outputs": [
    {
     "data": {
      "text/plain": [
       "70         153434\n",
       "340        131396\n",
       "69         120947\n",
       "4574       117679\n",
       "311        116091\n",
       "            ...  \n",
       "2454317         1\n",
       "2585453         1\n",
       "1733837         1\n",
       "1766385         1\n",
       "1146255         1\n",
       "Name: item_id, Length: 2310087, dtype: int64"
      ]
     },
     "execution_count": 14,
     "metadata": {},
     "output_type": "execute_result"
    }
   ],
   "source": [
    "value_counts"
   ]
  },
  {
   "cell_type": "code",
   "execution_count": 20,
   "id": "66a602a4",
   "metadata": {},
   "outputs": [
    {
     "data": {
      "image/png": "[encoded data removed]",
      "text/plain": [
       "<Figure size 432x288 with 1 Axes>"
      ]
     },
     "metadata": {
      "needs_background": "light"
     },
     "output_type": "display_data"
    }
   ],
   "source": [
    "import matplotlib.pyplot as plt\n",
    "\n",
    "plt.plot(range(len(list(value_counts))), list(value_counts))\n",
    "plt.title('Long Tail of Item Feedback')\n",
    "plt.xlabel('Items')\n",
    "plt.ylabel('Amount of related feedback')\n",
    "plt.gcf().subplots_adjust(left=0.15)\n",
    "plt.savefig('fig.png', dpi=300)"
   ]
  },
  {
   "cell_type": "code",
   "execution_count": 15,
   "id": "aa377db5",
   "metadata": {},
   "outputs": [
    {
     "data": {
      "text/plain": [
       "<Figure size 432x288 with 0 Axes>"
      ]
     },
     "metadata": {},
     "output_type": "display_data"
    }
   ],
   "source": []
  },
  {
   "cell_type": "code",
   "execution_count": null,
   "id": "0ec7d843",
   "metadata": {},
   "outputs": [],
   "source": []
  }
 ],
 "metadata": {
  "kernelspec": {
   "display_name": "Python 3 (ipykernel)",
   "language": "python",
   "name": "python3"
  },
  "language_info": {
   "codemirror_mode": {
    "name": "ipython",
    "version": 3
   },
   "file_extension": ".py",
   "mimetype": "text/x-python",
   "name": "python",
   "nbconvert_exporter": "python",
   "pygments_lexer": "ipython3",
   "version": "3.8.6"
  }
 },
 "nbformat": 4,
 "nbformat_minor": 5
}
